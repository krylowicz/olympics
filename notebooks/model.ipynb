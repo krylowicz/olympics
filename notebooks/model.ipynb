{
 "cells": [
  {
   "cell_type": "code",
   "execution_count": 66,
   "metadata": {},
   "outputs": [],
   "source": [
    "import pandas as pd\n",
    "\n",
    "from sklearn.model_selection import train_test_split, cross_val_score, GridSearchCV\n",
    "from sklearn.metrics import f1_score, classification_report\n",
    "from sklearn.pipeline import Pipeline\n",
    "from sklearn.ensemble import ExtraTreesClassifier"
   ]
  },
  {
   "cell_type": "markdown",
   "metadata": {},
   "source": [
    "## Importing data"
   ]
  },
  {
   "cell_type": "code",
   "execution_count": 67,
   "metadata": {},
   "outputs": [
    {
     "data": {
      "text/html": [
       "<div>\n",
       "<style scoped>\n",
       "    .dataframe tbody tr th:only-of-type {\n",
       "        vertical-align: middle;\n",
       "    }\n",
       "\n",
       "    .dataframe tbody tr th {\n",
       "        vertical-align: top;\n",
       "    }\n",
       "\n",
       "    .dataframe thead th {\n",
       "        text-align: right;\n",
       "    }\n",
       "</style>\n",
       "<table border=\"1\" class=\"dataframe\">\n",
       "  <thead>\n",
       "    <tr style=\"text-align: right;\">\n",
       "      <th></th>\n",
       "      <th>id</th>\n",
       "      <th>age</th>\n",
       "      <th>year</th>\n",
       "      <th>sex_F</th>\n",
       "      <th>sex_M</th>\n",
       "      <th>noc_AFG</th>\n",
       "      <th>noc_AHO</th>\n",
       "      <th>noc_ALB</th>\n",
       "      <th>noc_ALG</th>\n",
       "      <th>noc_AND</th>\n",
       "      <th>...</th>\n",
       "      <th>event_Wrestling Men's Super-Heavyweight, Greco-Roman</th>\n",
       "      <th>event_Wrestling Men's Welterweight, Freestyle</th>\n",
       "      <th>event_Wrestling Men's Welterweight, Greco-Roman</th>\n",
       "      <th>event_Wrestling Women's Featherweight, Freestyle</th>\n",
       "      <th>event_Wrestling Women's Flyweight, Freestyle</th>\n",
       "      <th>event_Wrestling Women's Heavyweight, Freestyle</th>\n",
       "      <th>event_Wrestling Women's Light-Heavyweight, Freestyle</th>\n",
       "      <th>event_Wrestling Women's Lightweight, Freestyle</th>\n",
       "      <th>event_Wrestling Women's Middleweight, Freestyle</th>\n",
       "      <th>medal</th>\n",
       "    </tr>\n",
       "  </thead>\n",
       "  <tbody>\n",
       "    <tr>\n",
       "      <th>0</th>\n",
       "      <td>18289.0</td>\n",
       "      <td>18.0</td>\n",
       "      <td>2008.0</td>\n",
       "      <td>1.0</td>\n",
       "      <td>0.0</td>\n",
       "      <td>0.0</td>\n",
       "      <td>0.0</td>\n",
       "      <td>0.0</td>\n",
       "      <td>0.0</td>\n",
       "      <td>0.0</td>\n",
       "      <td>...</td>\n",
       "      <td>0.0</td>\n",
       "      <td>0.0</td>\n",
       "      <td>0.0</td>\n",
       "      <td>0.0</td>\n",
       "      <td>0.0</td>\n",
       "      <td>0.0</td>\n",
       "      <td>0.0</td>\n",
       "      <td>0.0</td>\n",
       "      <td>0.0</td>\n",
       "      <td>No medal</td>\n",
       "    </tr>\n",
       "    <tr>\n",
       "      <th>1</th>\n",
       "      <td>57077.0</td>\n",
       "      <td>27.0</td>\n",
       "      <td>1980.0</td>\n",
       "      <td>1.0</td>\n",
       "      <td>0.0</td>\n",
       "      <td>0.0</td>\n",
       "      <td>0.0</td>\n",
       "      <td>0.0</td>\n",
       "      <td>0.0</td>\n",
       "      <td>0.0</td>\n",
       "      <td>...</td>\n",
       "      <td>0.0</td>\n",
       "      <td>0.0</td>\n",
       "      <td>0.0</td>\n",
       "      <td>0.0</td>\n",
       "      <td>0.0</td>\n",
       "      <td>0.0</td>\n",
       "      <td>0.0</td>\n",
       "      <td>0.0</td>\n",
       "      <td>0.0</td>\n",
       "      <td>No medal</td>\n",
       "    </tr>\n",
       "    <tr>\n",
       "      <th>2</th>\n",
       "      <td>8528.0</td>\n",
       "      <td>24.0</td>\n",
       "      <td>2012.0</td>\n",
       "      <td>0.0</td>\n",
       "      <td>1.0</td>\n",
       "      <td>0.0</td>\n",
       "      <td>0.0</td>\n",
       "      <td>0.0</td>\n",
       "      <td>0.0</td>\n",
       "      <td>0.0</td>\n",
       "      <td>...</td>\n",
       "      <td>0.0</td>\n",
       "      <td>0.0</td>\n",
       "      <td>0.0</td>\n",
       "      <td>0.0</td>\n",
       "      <td>0.0</td>\n",
       "      <td>0.0</td>\n",
       "      <td>0.0</td>\n",
       "      <td>0.0</td>\n",
       "      <td>0.0</td>\n",
       "      <td>No medal</td>\n",
       "    </tr>\n",
       "    <tr>\n",
       "      <th>3</th>\n",
       "      <td>82322.0</td>\n",
       "      <td>22.0</td>\n",
       "      <td>2004.0</td>\n",
       "      <td>0.0</td>\n",
       "      <td>1.0</td>\n",
       "      <td>0.0</td>\n",
       "      <td>0.0</td>\n",
       "      <td>0.0</td>\n",
       "      <td>0.0</td>\n",
       "      <td>0.0</td>\n",
       "      <td>...</td>\n",
       "      <td>0.0</td>\n",
       "      <td>0.0</td>\n",
       "      <td>0.0</td>\n",
       "      <td>0.0</td>\n",
       "      <td>0.0</td>\n",
       "      <td>0.0</td>\n",
       "      <td>0.0</td>\n",
       "      <td>0.0</td>\n",
       "      <td>0.0</td>\n",
       "      <td>No medal</td>\n",
       "    </tr>\n",
       "    <tr>\n",
       "      <th>4</th>\n",
       "      <td>10102.0</td>\n",
       "      <td>18.0</td>\n",
       "      <td>2000.0</td>\n",
       "      <td>1.0</td>\n",
       "      <td>0.0</td>\n",
       "      <td>0.0</td>\n",
       "      <td>0.0</td>\n",
       "      <td>0.0</td>\n",
       "      <td>0.0</td>\n",
       "      <td>0.0</td>\n",
       "      <td>...</td>\n",
       "      <td>0.0</td>\n",
       "      <td>0.0</td>\n",
       "      <td>0.0</td>\n",
       "      <td>0.0</td>\n",
       "      <td>0.0</td>\n",
       "      <td>0.0</td>\n",
       "      <td>0.0</td>\n",
       "      <td>0.0</td>\n",
       "      <td>0.0</td>\n",
       "      <td>No medal</td>\n",
       "    </tr>\n",
       "  </tbody>\n",
       "</table>\n",
       "<p>5 rows × 755 columns</p>\n",
       "</div>"
      ],
      "text/plain": [
       "        id   age    year  sex_F  sex_M  noc_AFG  noc_AHO  noc_ALB  noc_ALG  \\\n",
       "0  18289.0  18.0  2008.0    1.0    0.0      0.0      0.0      0.0      0.0   \n",
       "1  57077.0  27.0  1980.0    1.0    0.0      0.0      0.0      0.0      0.0   \n",
       "2   8528.0  24.0  2012.0    0.0    1.0      0.0      0.0      0.0      0.0   \n",
       "3  82322.0  22.0  2004.0    0.0    1.0      0.0      0.0      0.0      0.0   \n",
       "4  10102.0  18.0  2000.0    1.0    0.0      0.0      0.0      0.0      0.0   \n",
       "\n",
       "   noc_AND  ...  event_Wrestling Men's Super-Heavyweight, Greco-Roman  \\\n",
       "0      0.0  ...                                                0.0      \n",
       "1      0.0  ...                                                0.0      \n",
       "2      0.0  ...                                                0.0      \n",
       "3      0.0  ...                                                0.0      \n",
       "4      0.0  ...                                                0.0      \n",
       "\n",
       "   event_Wrestling Men's Welterweight, Freestyle  \\\n",
       "0                                            0.0   \n",
       "1                                            0.0   \n",
       "2                                            0.0   \n",
       "3                                            0.0   \n",
       "4                                            0.0   \n",
       "\n",
       "   event_Wrestling Men's Welterweight, Greco-Roman  \\\n",
       "0                                              0.0   \n",
       "1                                              0.0   \n",
       "2                                              0.0   \n",
       "3                                              0.0   \n",
       "4                                              0.0   \n",
       "\n",
       "   event_Wrestling Women's Featherweight, Freestyle  \\\n",
       "0                                               0.0   \n",
       "1                                               0.0   \n",
       "2                                               0.0   \n",
       "3                                               0.0   \n",
       "4                                               0.0   \n",
       "\n",
       "   event_Wrestling Women's Flyweight, Freestyle  \\\n",
       "0                                           0.0   \n",
       "1                                           0.0   \n",
       "2                                           0.0   \n",
       "3                                           0.0   \n",
       "4                                           0.0   \n",
       "\n",
       "   event_Wrestling Women's Heavyweight, Freestyle  \\\n",
       "0                                             0.0   \n",
       "1                                             0.0   \n",
       "2                                             0.0   \n",
       "3                                             0.0   \n",
       "4                                             0.0   \n",
       "\n",
       "   event_Wrestling Women's Light-Heavyweight, Freestyle  \\\n",
       "0                                                0.0      \n",
       "1                                                0.0      \n",
       "2                                                0.0      \n",
       "3                                                0.0      \n",
       "4                                                0.0      \n",
       "\n",
       "   event_Wrestling Women's Lightweight, Freestyle  \\\n",
       "0                                             0.0   \n",
       "1                                             0.0   \n",
       "2                                             0.0   \n",
       "3                                             0.0   \n",
       "4                                             0.0   \n",
       "\n",
       "   event_Wrestling Women's Middleweight, Freestyle     medal  \n",
       "0                                              0.0  No medal  \n",
       "1                                              0.0  No medal  \n",
       "2                                              0.0  No medal  \n",
       "3                                              0.0  No medal  \n",
       "4                                              0.0  No medal  \n",
       "\n",
       "[5 rows x 755 columns]"
      ]
     },
     "execution_count": 67,
     "metadata": {},
     "output_type": "execute_result"
    }
   ],
   "source": [
    "df_4 = pd.read_csv('../data/final_data.csv', index_col=[0])\n",
    "df_4.head()"
   ]
  },
  {
   "cell_type": "code",
   "execution_count": 68,
   "metadata": {},
   "outputs": [
    {
     "data": {
      "text/html": [
       "<div>\n",
       "<style scoped>\n",
       "    .dataframe tbody tr th:only-of-type {\n",
       "        vertical-align: middle;\n",
       "    }\n",
       "\n",
       "    .dataframe tbody tr th {\n",
       "        vertical-align: top;\n",
       "    }\n",
       "\n",
       "    .dataframe thead th {\n",
       "        text-align: right;\n",
       "    }\n",
       "</style>\n",
       "<table border=\"1\" class=\"dataframe\">\n",
       "  <thead>\n",
       "    <tr style=\"text-align: right;\">\n",
       "      <th></th>\n",
       "      <th>id</th>\n",
       "      <th>year</th>\n",
       "      <th>sex_F</th>\n",
       "      <th>sex_M</th>\n",
       "      <th>noc_AFG</th>\n",
       "      <th>noc_AHO</th>\n",
       "      <th>noc_ALB</th>\n",
       "      <th>noc_ALG</th>\n",
       "      <th>noc_AND</th>\n",
       "      <th>noc_ANG</th>\n",
       "      <th>...</th>\n",
       "      <th>event_Wrestling Men's Super-Heavyweight, Greco-Roman</th>\n",
       "      <th>event_Wrestling Men's Welterweight, Freestyle</th>\n",
       "      <th>event_Wrestling Men's Welterweight, Greco-Roman</th>\n",
       "      <th>event_Wrestling Women's Featherweight, Freestyle</th>\n",
       "      <th>event_Wrestling Women's Flyweight, Freestyle</th>\n",
       "      <th>event_Wrestling Women's Heavyweight, Freestyle</th>\n",
       "      <th>event_Wrestling Women's Light-Heavyweight, Freestyle</th>\n",
       "      <th>event_Wrestling Women's Lightweight, Freestyle</th>\n",
       "      <th>event_Wrestling Women's Middleweight, Freestyle</th>\n",
       "      <th>medal</th>\n",
       "    </tr>\n",
       "  </thead>\n",
       "  <tbody>\n",
       "    <tr>\n",
       "      <th>0</th>\n",
       "      <td>18289.0</td>\n",
       "      <td>2008.0</td>\n",
       "      <td>1.0</td>\n",
       "      <td>0.0</td>\n",
       "      <td>0.0</td>\n",
       "      <td>0.0</td>\n",
       "      <td>0.0</td>\n",
       "      <td>0.0</td>\n",
       "      <td>0.0</td>\n",
       "      <td>1.0</td>\n",
       "      <td>...</td>\n",
       "      <td>0.0</td>\n",
       "      <td>0.0</td>\n",
       "      <td>0.0</td>\n",
       "      <td>0.0</td>\n",
       "      <td>0.0</td>\n",
       "      <td>0.0</td>\n",
       "      <td>0.0</td>\n",
       "      <td>0.0</td>\n",
       "      <td>0.0</td>\n",
       "      <td>No medal</td>\n",
       "    </tr>\n",
       "    <tr>\n",
       "      <th>1</th>\n",
       "      <td>57077.0</td>\n",
       "      <td>1980.0</td>\n",
       "      <td>1.0</td>\n",
       "      <td>0.0</td>\n",
       "      <td>0.0</td>\n",
       "      <td>0.0</td>\n",
       "      <td>0.0</td>\n",
       "      <td>0.0</td>\n",
       "      <td>0.0</td>\n",
       "      <td>0.0</td>\n",
       "      <td>...</td>\n",
       "      <td>0.0</td>\n",
       "      <td>0.0</td>\n",
       "      <td>0.0</td>\n",
       "      <td>0.0</td>\n",
       "      <td>0.0</td>\n",
       "      <td>0.0</td>\n",
       "      <td>0.0</td>\n",
       "      <td>0.0</td>\n",
       "      <td>0.0</td>\n",
       "      <td>No medal</td>\n",
       "    </tr>\n",
       "    <tr>\n",
       "      <th>2</th>\n",
       "      <td>8528.0</td>\n",
       "      <td>2012.0</td>\n",
       "      <td>0.0</td>\n",
       "      <td>1.0</td>\n",
       "      <td>0.0</td>\n",
       "      <td>0.0</td>\n",
       "      <td>0.0</td>\n",
       "      <td>0.0</td>\n",
       "      <td>0.0</td>\n",
       "      <td>0.0</td>\n",
       "      <td>...</td>\n",
       "      <td>0.0</td>\n",
       "      <td>0.0</td>\n",
       "      <td>0.0</td>\n",
       "      <td>0.0</td>\n",
       "      <td>0.0</td>\n",
       "      <td>0.0</td>\n",
       "      <td>0.0</td>\n",
       "      <td>0.0</td>\n",
       "      <td>0.0</td>\n",
       "      <td>No medal</td>\n",
       "    </tr>\n",
       "    <tr>\n",
       "      <th>3</th>\n",
       "      <td>82322.0</td>\n",
       "      <td>2004.0</td>\n",
       "      <td>0.0</td>\n",
       "      <td>1.0</td>\n",
       "      <td>0.0</td>\n",
       "      <td>0.0</td>\n",
       "      <td>0.0</td>\n",
       "      <td>0.0</td>\n",
       "      <td>0.0</td>\n",
       "      <td>0.0</td>\n",
       "      <td>...</td>\n",
       "      <td>0.0</td>\n",
       "      <td>0.0</td>\n",
       "      <td>0.0</td>\n",
       "      <td>0.0</td>\n",
       "      <td>0.0</td>\n",
       "      <td>0.0</td>\n",
       "      <td>0.0</td>\n",
       "      <td>0.0</td>\n",
       "      <td>0.0</td>\n",
       "      <td>No medal</td>\n",
       "    </tr>\n",
       "    <tr>\n",
       "      <th>4</th>\n",
       "      <td>10102.0</td>\n",
       "      <td>2000.0</td>\n",
       "      <td>1.0</td>\n",
       "      <td>0.0</td>\n",
       "      <td>0.0</td>\n",
       "      <td>0.0</td>\n",
       "      <td>0.0</td>\n",
       "      <td>0.0</td>\n",
       "      <td>0.0</td>\n",
       "      <td>0.0</td>\n",
       "      <td>...</td>\n",
       "      <td>0.0</td>\n",
       "      <td>0.0</td>\n",
       "      <td>0.0</td>\n",
       "      <td>0.0</td>\n",
       "      <td>0.0</td>\n",
       "      <td>0.0</td>\n",
       "      <td>0.0</td>\n",
       "      <td>0.0</td>\n",
       "      <td>0.0</td>\n",
       "      <td>No medal</td>\n",
       "    </tr>\n",
       "  </tbody>\n",
       "</table>\n",
       "<p>5 rows × 613 columns</p>\n",
       "</div>"
      ],
      "text/plain": [
       "        id    year  sex_F  sex_M  noc_AFG  noc_AHO  noc_ALB  noc_ALG  noc_AND  \\\n",
       "0  18289.0  2008.0    1.0    0.0      0.0      0.0      0.0      0.0      0.0   \n",
       "1  57077.0  1980.0    1.0    0.0      0.0      0.0      0.0      0.0      0.0   \n",
       "2   8528.0  2012.0    0.0    1.0      0.0      0.0      0.0      0.0      0.0   \n",
       "3  82322.0  2004.0    0.0    1.0      0.0      0.0      0.0      0.0      0.0   \n",
       "4  10102.0  2000.0    1.0    0.0      0.0      0.0      0.0      0.0      0.0   \n",
       "\n",
       "   noc_ANG  ...  event_Wrestling Men's Super-Heavyweight, Greco-Roman  \\\n",
       "0      1.0  ...                                                0.0      \n",
       "1      0.0  ...                                                0.0      \n",
       "2      0.0  ...                                                0.0      \n",
       "3      0.0  ...                                                0.0      \n",
       "4      0.0  ...                                                0.0      \n",
       "\n",
       "   event_Wrestling Men's Welterweight, Freestyle  \\\n",
       "0                                            0.0   \n",
       "1                                            0.0   \n",
       "2                                            0.0   \n",
       "3                                            0.0   \n",
       "4                                            0.0   \n",
       "\n",
       "   event_Wrestling Men's Welterweight, Greco-Roman  \\\n",
       "0                                              0.0   \n",
       "1                                              0.0   \n",
       "2                                              0.0   \n",
       "3                                              0.0   \n",
       "4                                              0.0   \n",
       "\n",
       "   event_Wrestling Women's Featherweight, Freestyle  \\\n",
       "0                                               0.0   \n",
       "1                                               0.0   \n",
       "2                                               0.0   \n",
       "3                                               0.0   \n",
       "4                                               0.0   \n",
       "\n",
       "   event_Wrestling Women's Flyweight, Freestyle  \\\n",
       "0                                           0.0   \n",
       "1                                           0.0   \n",
       "2                                           0.0   \n",
       "3                                           0.0   \n",
       "4                                           0.0   \n",
       "\n",
       "   event_Wrestling Women's Heavyweight, Freestyle  \\\n",
       "0                                             0.0   \n",
       "1                                             0.0   \n",
       "2                                             0.0   \n",
       "3                                             0.0   \n",
       "4                                             0.0   \n",
       "\n",
       "   event_Wrestling Women's Light-Heavyweight, Freestyle  \\\n",
       "0                                                0.0      \n",
       "1                                                0.0      \n",
       "2                                                0.0      \n",
       "3                                                0.0      \n",
       "4                                                0.0      \n",
       "\n",
       "   event_Wrestling Women's Lightweight, Freestyle  \\\n",
       "0                                             0.0   \n",
       "1                                             0.0   \n",
       "2                                             0.0   \n",
       "3                                             0.0   \n",
       "4                                             0.0   \n",
       "\n",
       "   event_Wrestling Women's Middleweight, Freestyle     medal  \n",
       "0                                              0.0  No medal  \n",
       "1                                              0.0  No medal  \n",
       "2                                              0.0  No medal  \n",
       "3                                              0.0  No medal  \n",
       "4                                              0.0  No medal  \n",
       "\n",
       "[5 rows x 613 columns]"
      ]
     },
     "execution_count": 68,
     "metadata": {},
     "output_type": "execute_result"
    }
   ],
   "source": [
    "df_2 = pd.read_csv('../data/final_data_two_classes.csv', index_col=[0])\n",
    "df_2.head()"
   ]
  },
  {
   "cell_type": "code",
   "execution_count": 69,
   "metadata": {},
   "outputs": [],
   "source": [
    "X_4 = df_4.drop('medal', axis=1)\n",
    "y_4 = df_4.medal\n",
    "\n",
    "data_4 = (X_train_4, X_test_4, y_train_4, y_test_4) = train_test_split(X_4, y_4, test_size=0.3, stratify=y_4, random_state=42)"
   ]
  },
  {
   "cell_type": "code",
   "execution_count": 70,
   "metadata": {},
   "outputs": [],
   "source": [
    "X_2 = df_2.drop('medal', axis=1)\n",
    "y_2 = df_2.medal\n",
    "\n",
    "data_2 = (X_train_2, X_test_2, y_train_2, y_test_2) = train_test_split(X_2, y_2, test_size=0.3, stratify=y_2, random_state=42)"
   ]
  },
  {
   "cell_type": "markdown",
   "metadata": {},
   "source": [
    "## Utility functions"
   ]
  },
  {
   "cell_type": "code",
   "execution_count": 71,
   "metadata": {},
   "outputs": [],
   "source": [
    "def make_model(model, **kwargs):\n",
    "  return model(**kwargs)\n",
    "\n",
    "def make_pipeline(preprocessor, model):\n",
    "  return Pipeline(steps=[\n",
    "    ('preprocessor', preprocessor),\n",
    "    ('model', model)\n",
    "  ])\n",
    "\n",
    "def evaluate_model(pipeline, data):\n",
    "  X_train, X_test, y_train, y_test = data\n",
    "  pipeline.fit(X_train, y_train)\n",
    "  y_hat = pipeline.predict(X_test)\n",
    "  score = f1_score(y_test, y_hat, average='macro')\n",
    "  return (score, y_hat)"
   ]
  },
  {
   "cell_type": "markdown",
   "metadata": {},
   "source": [
    "## 4 classes prediction"
   ]
  },
  {
   "cell_type": "code",
   "execution_count": 18,
   "metadata": {},
   "outputs": [
    {
     "data": {
      "text/plain": [
       "0.664885440314426"
      ]
     },
     "execution_count": 18,
     "metadata": {},
     "output_type": "execute_result"
    }
   ],
   "source": [
    "model_not_tuned = make_model(ExtraTreesClassifier, bootstrap=True, ccp_alpha=0.0, class_weight='balanced',\n",
    "                      criterion='gini', max_depth=100, max_features='auto',\n",
    "                      max_leaf_nodes=None, max_samples=None,\n",
    "                      min_impurity_decrease=0.0,\n",
    "                      min_samples_leaf=1, min_samples_split=5,\n",
    "                      min_weight_fraction_leaf=0.0, n_estimators=1800, n_jobs=-1,\n",
    "                      oob_score=False, random_state=None, verbose=0,\n",
    "                      warm_start=False)"
   ]
  },
  {
   "cell_type": "code",
   "execution_count": 34,
   "metadata": {},
   "outputs": [
    {
     "data": {
      "text/plain": [
       "GridSearchCV(cv=5, estimator=ExtraTreesClassifier(), n_jobs=-1,\n",
       "             param_grid={'bootstrap': [False], 'class_weight': ['balanced'],\n",
       "                         'max_depth': [10, 20, 100], 'max_features': ['sqrt'],\n",
       "                         'min_samples_leaf': [1, 2, 4],\n",
       "                         'min_samples_split': [2, 5, 10],\n",
       "                         'n_estimators': [400, 1800]},\n",
       "             scoring='f1_macro')"
      ]
     },
     "execution_count": 34,
     "metadata": {},
     "output_type": "execute_result"
    }
   ],
   "source": [
    "param_grid = {\n",
    "  'bootstrap': [False],\n",
    "  'max_depth': [10, 20, 100],\n",
    "  'max_features': ['sqrt'],\n",
    "  'min_samples_leaf': [1, 2, 4],\n",
    "  'min_samples_split': [2, 5, 10],\n",
    "  'class_weight': ['balanced'],\n",
    "  'n_estimators': [400, 1800]\n",
    "}\n",
    "\n",
    "grid_search = GridSearchCV(ExtraTreesClassifier(), param_grid=param_grid, scoring='f1_macro', cv=5, n_jobs=-1)\n",
    "grid_search.fit(X_train_4, y_train_4)"
   ]
  },
  {
   "cell_type": "code",
   "execution_count": 35,
   "metadata": {},
   "outputs": [
    {
     "data": {
      "text/plain": [
       "({'bootstrap': False,\n",
       "  'class_weight': 'balanced',\n",
       "  'max_depth': 100,\n",
       "  'max_features': 'sqrt',\n",
       "  'min_samples_leaf': 1,\n",
       "  'min_samples_split': 2,\n",
       "  'n_estimators': 1800},\n",
       " 0.6757893838630664)"
      ]
     },
     "execution_count": 35,
     "metadata": {},
     "output_type": "execute_result"
    }
   ],
   "source": [
    "grid_search.best_params_, grid_search.best_score_"
   ]
  },
  {
   "cell_type": "code",
   "execution_count": 72,
   "metadata": {},
   "outputs": [],
   "source": [
    "model = grid_search.best_estimator_\n",
    "f1_score_4, y_hat_4 = evaluate_model(model, data_4)"
   ]
  },
  {
   "cell_type": "code",
   "execution_count": 73,
   "metadata": {},
   "outputs": [
    {
     "data": {
      "text/plain": [
       "0.6773705921372625"
      ]
     },
     "execution_count": 73,
     "metadata": {},
     "output_type": "execute_result"
    }
   ],
   "source": [
    "f1_score_4"
   ]
  },
  {
   "cell_type": "code",
   "execution_count": 44,
   "metadata": {},
   "outputs": [
    {
     "data": {
      "text/plain": [
       "ExtraTreesClassifier(class_weight='balanced', max_depth=100,\n",
       "                     max_features='sqrt', n_estimators=1800)"
      ]
     },
     "execution_count": 44,
     "metadata": {},
     "output_type": "execute_result"
    }
   ],
   "source": [
    "model"
   ]
  },
  {
   "cell_type": "code",
   "execution_count": 46,
   "metadata": {},
   "outputs": [
    {
     "name": "stdout",
     "output_type": "stream",
     "text": [
      "              precision    recall  f1-score   support\n",
      "\n",
      "      Bronze       0.69      0.64      0.66      3116\n",
      "        Gold       0.72      0.69      0.70      3036\n",
      "    No medal       0.61      0.75      0.67      3300\n",
      "      Silver       0.71      0.63      0.67      2991\n",
      "\n",
      "    accuracy                           0.68     12443\n",
      "   macro avg       0.69      0.68      0.68     12443\n",
      "weighted avg       0.68      0.68      0.68     12443\n",
      "\n"
     ]
    }
   ],
   "source": [
    "print(classification_report(y_test_4, y_hat_4))"
   ]
  },
  {
   "cell_type": "markdown",
   "metadata": {},
   "source": [
    "## 2 classes prediction\n",
    "with the same model"
   ]
  },
  {
   "cell_type": "code",
   "execution_count": 74,
   "metadata": {},
   "outputs": [],
   "source": [
    "f1_score_2, y_hat_2 = evaluate_model(model, data_2)"
   ]
  },
  {
   "cell_type": "code",
   "execution_count": 75,
   "metadata": {},
   "outputs": [
    {
     "data": {
      "text/plain": [
       "0.80804724554566"
      ]
     },
     "execution_count": 75,
     "metadata": {},
     "output_type": "execute_result"
    }
   ],
   "source": [
    "f1_score_2"
   ]
  },
  {
   "cell_type": "code",
   "execution_count": 76,
   "metadata": {},
   "outputs": [
    {
     "name": "stdout",
     "output_type": "stream",
     "text": [
      "              precision    recall  f1-score   support\n",
      "\n",
      "       Medal       0.83      0.79      0.81      7601\n",
      "    No medal       0.79      0.83      0.81      7278\n",
      "\n",
      "    accuracy                           0.81     14879\n",
      "   macro avg       0.81      0.81      0.81     14879\n",
      "weighted avg       0.81      0.81      0.81     14879\n",
      "\n"
     ]
    }
   ],
   "source": [
    "print(classification_report(y_test_2, y_hat_2))"
   ]
  }
 ],
 "metadata": {
  "interpreter": {
   "hash": "c6e4e9f98eb68ad3b7c296f83d20e6de614cb42e90992a65aa266555a3137d0d"
  },
  "kernelspec": {
   "display_name": "Python 3.9.6 64-bit ('base': conda)",
   "language": "python",
   "name": "python3"
  },
  "language_info": {
   "codemirror_mode": {
    "name": "ipython",
    "version": 3
   },
   "file_extension": ".py",
   "mimetype": "text/x-python",
   "name": "python",
   "nbconvert_exporter": "python",
   "pygments_lexer": "ipython3",
   "version": "3.9.7"
  },
  "orig_nbformat": 4
 },
 "nbformat": 4,
 "nbformat_minor": 2
}
